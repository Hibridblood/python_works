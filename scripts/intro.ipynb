{
 "cells": [
  {
   "cell_type": "code",
   "execution_count": 4,
   "id": "0e9be80b",
   "metadata": {},
   "outputs": [
    {
     "name": "stdout",
     "output_type": "stream",
     "text": [
      "ingresa tu salario mensual 10000\n",
      "tu disposicion semanal es de  2500.0\n",
      "tu disposicion semestral es de  60000\n",
      "tu disposicion anual es de  120000\n"
     ]
    }
   ],
   "source": [
    "salario=int(input(\"ingresa tu salario mensual \"))\n",
    "print(\"tu disposicion semanal es de \",salario/4)\n",
    "print(\"tu disposicion semestral es de \",salario*6)\n",
    "print(\"tu disposicion anual es de \",salario*12)"
   ]
  },
  {
   "cell_type": "code",
   "execution_count": 1,
   "id": "d8bdc1a6",
   "metadata": {},
   "outputs": [
    {
     "name": "stdout",
     "output_type": "stream",
     "text": [
      "ingrese el monto del prestamo 1000\n",
      "ingrese la tasa de interes 10\n",
      "ingrese la duracion del prestamo en anios 2\n",
      "1100.0\n",
      "1210.0\n"
     ]
    }
   ],
   "source": [
    "saldo=int(input(\"ingrese el monto del prestamo \"))\n",
    "interes=int(input(\"ingrese la tasa de interes \"))\n",
    "duracion=int(input(\"ingrese la duracion del prestamo en anios \"))\n",
    "for x in range (duracion):\n",
    "    saldo=saldo*(1+(interes/100))\n",
    "    print (saldo)\n"
   ]
  },
  {
   "cell_type": "code",
   "execution_count": 7,
   "id": "8e5670bb",
   "metadata": {},
   "outputs": [
    {
     "name": "stdout",
     "output_type": "stream",
     "text": [
      "seleccione la figura 1.- cuadrado 2.- triangulo 3.-circulo 3\n",
      "ingrese el tamanio del radio20\n",
      "1256.6000000000001\n"
     ]
    }
   ],
   "source": [
    "figura=int(input(\"seleccione la figura 1.- cuadrado 2.- triangulo 3.-circulo \"))\n",
    "if figura == 1:\n",
    "    lado=int(input(\"ingrese el tamanio del lado \"))\n",
    "    print(lado*lado)\n",
    "elif figura == 2:\n",
    "    base=int(input(\"ingrese el tamanio de la base \"))\n",
    "    altura=int(input(\"ingrese el tamanio de la altura \"))\n",
    "    print(altura*base/2)\n",
    "elif figura == 3:\n",
    "    radio=int(input(\"ingrese el tamanio del radio \"))\n",
    "    print(3.1415*radio*radio)\n",
    "else:\n",
    "    print(\"opcion invalida\")"
   ]
  },
  {
   "cell_type": "code",
   "execution_count": null,
   "id": "0a493cb0",
   "metadata": {},
   "outputs": [],
   "source": []
  }
 ],
 "metadata": {
  "kernelspec": {
   "display_name": "Python 3 (ipykernel)",
   "language": "python",
   "name": "python3"
  },
  "language_info": {
   "codemirror_mode": {
    "name": "ipython",
    "version": 3
   },
   "file_extension": ".py",
   "mimetype": "text/x-python",
   "name": "python",
   "nbconvert_exporter": "python",
   "pygments_lexer": "ipython3",
   "version": "3.10.6"
  }
 },
 "nbformat": 4,
 "nbformat_minor": 5
}
